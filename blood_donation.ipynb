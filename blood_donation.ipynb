{
 "cells": [
  {
   "cell_type": "markdown",
   "metadata": {},
   "source": [
    "## Creating database\n"
   ]
  },
  {
   "cell_type": "code",
   "execution_count": 1,
   "metadata": {
    "scrolled": true
   },
   "outputs": [],
   "source": [
    "import mysql.connector\n",
    "import csv\n",
    "\n",
    "mydb=mysql.connector.connect(host=\"localhost\",user=\"root\",password=\"Addis123\")\n",
    "\n",
    "mycursor=mydb.cursor()\n",
    "\n",
    "mycursor.execute(\"create database blood__donation\")\n"
   ]
  },
  {
   "cell_type": "markdown",
   "metadata": {},
   "source": [
    "## Creating the three tables\n"
   ]
  },
  {
   "cell_type": "code",
   "execution_count": 3,
   "metadata": {},
   "outputs": [],
   "source": [
    "mydb=mysql.connector.connect(host=\"localhost\",user=\"root\",password=\"Addis123\",database=\"blood__donation\")\n",
    "\n",
    "mycursor=mydb.cursor()\n",
    "\n",
    "\n",
    "\n",
    "#mycursor.execute(\"DROP TABLE data_of_donor\")\n",
    "#mycursor.execute(\"DROP TABLE data_of_patient\")\n",
    "#mycursor.execute(\"DROP TABLE ata_of_blood_bank\")\n",
    "\n",
    "mycursor.execute(\"create table data_of_patient(id int auto_increment primary key,patient_name varchar(255),patient_blood_group varchar(255),patient_disease varchar(255))\")\n",
    "\n",
    "mycursor.execute(\"create table ata_of_blood_bank(blood_bank_name varchar(255) ,blood_bank_address varchar(255),donor_name varchar(255),donor_contact_number varchar(15) primary key)\")\n",
    "mycursor.execute(\"create table data_of_donor(id int auto_increment primary key,donor_name varchar(255),donor_blood_group varchar(255),donor_medical_report varchar(255),donor_address varchar(255),donor_contact_number varchar(15),CONSTRAINT fk_ata_of_blood_bank FOREIGN KEY (donor_contact_number) REFERENCES ata_of_blood_bank(donor_contact_number) ON UPDATE CASCADE ON DELETE CASCADE)\")\n"
   ]
  },
  {
   "cell_type": "markdown",
   "metadata": {},
   "source": [
    "## inserting data in the tables"
   ]
  },
  {
   "cell_type": "code",
   "execution_count": 4,
   "metadata": {},
   "outputs": [],
   "source": [
    "use=\"INSERT INTO data_of_patient(id,patient_name,patient_blood_group,patient_disease) VALUES(%s,%s,%s,%s)\"\n",
    "val=[(1,\"luvo\",\"A\",\"tuberculosis\"),\n",
    "    (2,\"songezo\",\"A\",\"cancer\"),\n",
    "    (3,\"wyn\",\"O\",\"diabetes\"),\n",
    "    (4,\"lish\",\"B\",\"heart disease\"),\n",
    "    (5,\"johanes\",\"AB\",\"kidney failure\"),\n",
    "    (6,\"seyda\",\"O\",\"hearth disease\")]\n",
    "\n",
    "mycursor.executemany(use,val)\n",
    "mydb.commit()\n",
    "\n",
    "\n",
    "use=\"INSERT INTO ata_of_blood_bank(blood_bank_name,blood_bank_address,donor_name,donor_contact_number) VALUES(%s,%s,%s,%s)\"\n",
    "val=[(\"ziadoc blood bank\",\"11 tokoza jhb\",\"anele\",\"0712223636\"),\n",
    "    (\"marlin blood bank\",\"23 grenendal cpt\",\"john\",\"0839168864\"),\n",
    "    (\"worster blook bank\",\"63 ruth first wst\",\"andy\",\"0690556472\"),\n",
    "    (\"kapsta blood bank\",\"14 mhlanga dbn\",\"loyd\",\"0829992511\"),\n",
    "    (\"western cape bank\",\"26 chris stainbeg\",\"kodze\",\"0739112526\"),\n",
    "    (\"cape town blood bank\",\"16 cecil cpt\",\"zolani\",\"0765344861\")]\n",
    "\n",
    "mycursor.executemany(use,val)\n",
    "mydb.commit()\n",
    "\n",
    "\n",
    "use=\"INSERT INTO data_of_donor(id,donor_name,donor_blood_group,donor_medical_report,donor_address,donor_contact_number) VALUES(%s,%s,%s,%s,%s,%s)\"\n",
    "val=[(1,\"kodze\",\"A\",\"healthy\",\"22 ruth belhar\",\"0739112526\"),\n",
    "    (2,\"john\",\"A\",\"diabetes\",\"10 lower brakenfell\",\"0839168864\"),\n",
    "    (3,\"andy\",\"O\",\"healthy\",\"66 casinga cpt\",\"0690556472\"),\n",
    "    (4,\"anele\",\"AB\",\"healthy\",\"45 springs jhb\",\"0712223636\"),\n",
    "    (5,\"zolani\",\"AB\",\"healthy\",\"28 kwamashu cpt\",\"0765344861\")]\n",
    "    \n",
    "mycursor.executemany(use,val)\n",
    "mydb.commit()"
   ]
  },
  {
   "cell_type": "markdown",
   "metadata": {},
   "source": [
    "## Data in the tables"
   ]
  },
  {
   "cell_type": "code",
   "execution_count": 4,
   "metadata": {},
   "outputs": [
    {
     "name": "stdout",
     "output_type": "stream",
     "text": [
      "Patient data\n",
      "\n",
      "(1, 'luvo', 'A', 'tuberculosis')\n",
      "(2, 'songezo', 'A', 'cancer')\n",
      "(3, 'wyn', 'O', 'diabetes')\n",
      "(4, 'lish', 'B', 'heart disease')\n",
      "(5, 'johanes', 'AB', 'kidney failure')\n",
      "(6, 'seyda', 'O', 'hearth disease')\n",
      "\n",
      "Donor data\n",
      "\n",
      "(1, 'kodze', 'A', 'healthy', '22 ruth belhar', '0739112526')\n",
      "(2, 'john', 'A', 'diabetes', '10 lower brakenfell', '0839168864')\n",
      "(3, 'andy', 'O', 'healthy', '66 casinga cpt', '0690556472')\n",
      "(4, 'anele', 'AB', 'healthy', '45 springs jhb', '0712223636')\n",
      "(5, 'zolani', 'AB', 'healthy', '28 kwamashu kzn', '0765344861')\n",
      "(6, 'asanda', 'O', 'healthy', '76 magness jhb', '0796428545')\n",
      "\n",
      "Blood bank data\n",
      "\n",
      "('cape blood bank', '47 johhanes cpt', 'ACA', '0756482495')\n",
      "('cape town blood bank', '16 cecil cpt', 'sinazo', '0621196294')\n",
      "('kapsta blood bank', '14 mhlanga dbn', 'loyd', '0829992511')\n",
      "('marlin blood bank', '23 grenendal cpt', 'john', '0839168864')\n",
      "('western cape bank', '26 chris stainbeg', 'kodze', '0739112526')\n",
      "('worster blook bank', '63 ruth first wst', 'andy', '0690556472')\n",
      "('ziadoc blood bank', '11 tokoza jhb', 'anele', '0712223636')\n"
     ]
    }
   ],
   "source": [
    "import mysql.connector\n",
    "import csv\n",
    "\n",
    "mydb=mysql.connector.connect(host=\"localhost\",user=\"root\",password=\"Addis123\",database=\"blood___donation\")\n",
    "\n",
    "mycursor=mydb.cursor()\n",
    "\n",
    "\n",
    "print(\"Patient data\")\n",
    "mycursor.execute(\"select * from data_of_patient\")\n",
    "print(\"\")\n",
    "for i in mycursor:\n",
    "    print(i)\n",
    "    \n",
    "print(\"\")\n",
    "print(\"Donor data\")\n",
    "mycursor.execute(\"select * from data_of_donor\")\n",
    "print(\"\")\n",
    "for i in mycursor:\n",
    "    print(i)\n",
    "\n",
    "\n",
    "print(\"\")\n",
    "print(\"Blood bank data\")\n",
    "mycursor.execute(\"select * from ata_of_blood_bank\")\n",
    "print(\"\")\n",
    "for i in mycursor:\n",
    "    print(i)"
   ]
  },
  {
   "cell_type": "markdown",
   "metadata": {},
   "source": [
    "## Patients with the same blood group"
   ]
  },
  {
   "cell_type": "code",
   "execution_count": 2,
   "metadata": {},
   "outputs": [
    {
     "name": "stdout",
     "output_type": "stream",
     "text": [
      "Please select blood type(A,B,AB,O):o\n",
      "Patients with blood group O\n",
      "\n",
      "('andy', '0690556472')\n"
     ]
    }
   ],
   "source": [
    "g=input(\"Please select blood type(A,B,AB,O):\")\n",
    "\n",
    "print(\"Patients with blood group\",g.upper())\n",
    "print(\"\")\n",
    "\n",
    "if g==\"A\" or g==\"a\":\n",
    "    mycursor.execute(\"select donor_name,donor_contact_number from data_of_donor where donor_blood_group='A' \")\n",
    "    for i in mycursor:\n",
    "        print(i)\n",
    "\n",
    "        \n",
    "if g==\"B\" or g==\"b\":\n",
    "    mycursor.execute(\"select donor_name,donor_contact_number from data_of_donor where donor_blood_group='B' \")\n",
    "    for i in mycursor:\n",
    "        print(i)\n",
    "if g==\"AB\" or g==\"ab\":\n",
    "    mycursor.execute(\"select donor_name,donor_contact_number from data_of_donor where donor_blood_group='AB' \")\n",
    "    for i in mycursor:\n",
    "        print(i)\n",
    "\n",
    "if g==\"O\" or g==\"o\":\n",
    "    mycursor.execute(\"select donor_name,donor_contact_number from data_of_donor where donor_blood_group='O' \")\n",
    "    for i in mycursor:\n",
    "        print(i)"
   ]
  },
  {
   "cell_type": "markdown",
   "metadata": {},
   "source": [
    "## Patient matched with potential donors"
   ]
  },
  {
   "cell_type": "markdown",
   "metadata": {},
   "source": [
    "* user enters a patiant name to check wich donors matches their blood type"
   ]
  },
  {
   "cell_type": "code",
   "execution_count": 5,
   "metadata": {},
   "outputs": [
    {
     "name": "stdout",
     "output_type": "stream",
     "text": [
      "Enter name of patient to find potential donors: luvo\n",
      "\n",
      "Available donors:\n",
      "('kodze', '0739112526')\n",
      "('john', '0839168864')\n"
     ]
    }
   ],
   "source": [
    "sql=\"select patient_blood_group from data_of_patient where patient_name=%s \"      \n",
    "m=input(\"Enter name of patient to find potential donors: \")\n",
    "\n",
    "print(\"\")\n",
    "\n",
    "print(\"Available donors:\")\n",
    "val=(m,)\n",
    "mycursor.execute(sql,val)\n",
    "r=mycursor.fetchall()\n",
    "\n",
    "sql=\"select donor_name,donor_contact_number from data_of_donor where donor_blood_group=%s \"      \n",
    "val=(r[0])\n",
    "mycursor.execute(sql,val)\n",
    "for i in mycursor:\n",
    "    print(i)\n",
    "\n",
    "mydb.commit()\n",
    "\n",
    "\n"
   ]
  },
  {
   "cell_type": "code",
   "execution_count": null,
   "metadata": {},
   "outputs": [],
   "source": []
  },
  {
   "cell_type": "markdown",
   "metadata": {},
   "source": [
    "## Diseases and the number of patients in each\n"
   ]
  },
  {
   "cell_type": "code",
   "execution_count": 3,
   "metadata": {},
   "outputs": [
    {
     "name": "stdout",
     "output_type": "stream",
     "text": [
      "('tuberculosis', 2)\n",
      "('cancer', 1)\n",
      "('diabetes', 1)\n",
      "('heart disease', 1)\n",
      "('kidney failure', 1)\n",
      "('hearth disease', 1)\n"
     ]
    }
   ],
   "source": [
    "mycursor.execute(\"select patient_disease,COUNT(1) as num from data_of_patient group by patient_disease order by count(*) DESC\")\n",
    "for i in mycursor:\n",
    "    print(i)\n"
   ]
  },
  {
   "cell_type": "markdown",
   "metadata": {},
   "source": [
    "## Adding record"
   ]
  },
  {
   "cell_type": "markdown",
   "metadata": {},
   "source": [
    "* Adding to patients table"
   ]
  },
  {
   "cell_type": "code",
   "execution_count": 2,
   "metadata": {},
   "outputs": [
    {
     "name": "stdout",
     "output_type": "stream",
     "text": [
      "\n",
      "Current data of patients:\n",
      "\n",
      "(1, 'luvo', 'A', 'tuberculosis')\n",
      "(2, 'songezo', 'A', 'cancer')\n",
      "(3, 'wyn', 'O', 'diabetes')\n",
      "(4, 'lish', 'B', 'heart disease')\n",
      "(5, 'johanes', 'AB', 'kidney failure')\n",
      "(6, 'seyda', 'O', 'hearth disease')\n",
      "\n",
      "Enter patient id: 7\n",
      "Enter patient name: khaya\n",
      "Enter patient blood group: B\n",
      "Enter patient disease: tuberculosis\n",
      "\n",
      "Updated patient data\n",
      "\n",
      "(1, 'luvo', 'A', 'tuberculosis')\n",
      "(2, 'songezo', 'A', 'cancer')\n",
      "(3, 'wyn', 'O', 'diabetes')\n",
      "(4, 'lish', 'B', 'heart disease')\n",
      "(5, 'johanes', 'AB', 'kidney failure')\n",
      "(6, 'seyda', 'O', 'hearth disease')\n",
      "(7, 'khaya', 'B', 'tuberculosis')\n"
     ]
    }
   ],
   "source": [
    "        mycursor.execute(\"select * from data_of_patient\")\n",
    "        print(\"\")\n",
    "        print(\"Current data of patients:\")\n",
    "        print(\"\")\n",
    "        for i in mycursor:\n",
    "            print(i)\n",
    "\n",
    "        print(\"\")\n",
    "        sql=\"INSERT INTO data_of_patient(id,patient_name,patient_blood_group,patient_disease) VALUES(%s,%s,%s,%s)\"\n",
    "        s=input(\"Enter patient id: \")\n",
    "        m=input(\"Enter patient name: \")\n",
    "        p=input(\"Enter patient blood group: \")\n",
    "        p.upper()\n",
    "        q=input(\"Enter patient disease: \")\n",
    "        val=(s,m,p,q)\n",
    "        mycursor.execute(sql,val)\n",
    "\n",
    "        mycursor.execute(\"select * from data_of_patient\")\n",
    "        print(\"\") \n",
    "        print(\"Updated patient data\")\n",
    "        print(\"\")\n",
    "        for i in mycursor:\n",
    "            print(i)\n",
    "\n",
    "        mydb.commit()"
   ]
  },
  {
   "cell_type": "markdown",
   "metadata": {},
   "source": [
    "* Adding to Ata blood bank table"
   ]
  },
  {
   "cell_type": "code",
   "execution_count": null,
   "metadata": {},
   "outputs": [
    {
     "name": "stdout",
     "output_type": "stream",
     "text": [
      "\n",
      "Current ata of blood bank:\n",
      "\n",
      "('cape blood bank', '47 johhanes cpt', 'ACA', '0756482495')\n",
      "('cape town blood bank', '16 cecil cpt', 'sinazo', '0621196294')\n",
      "('kapsta blood bank', '14 mhlanga dbn', 'loyd', '0829992511')\n",
      "('marlin blood bank', '23 grenendal cpt', 'john', '0839168864')\n",
      "('western cape bank', '26 chris stainbeg', 'kodze', '0739112526')\n",
      "('worster blook bank', '63 ruth first wst', 'andy', '0690556472')\n",
      "('ziadoc blood bank', '11 tokoza jhb', 'anele', '0712223636')\n",
      "\n"
     ]
    }
   ],
   "source": [
    "mycursor.execute(\"select * from ata_of_blood_bank\")\n",
    "print(\"\")\n",
    "print(\"Current ata of blood bank:\")\n",
    "print(\"\")\n",
    "for i in mycursor:\n",
    "    print(i)\n",
    "\n",
    "print(\"\")\n",
    "sql=\"INSERT INTO ata_of_blood_bank(blood_bank_name,blood_bank_address,blood_bank_donor_name,blood_bank_donor_contact_number) VALUES(%s,%s,%s,%s)\"\n",
    "s=input(\"Enter blood bank name: \")\n",
    "m=input(\"Enter blood bank address: \")\n",
    "p=input(\"Enter blood bank donors name: \").upper()\n",
    "q=input(\"Enter blood bank donors contact number: \")\n",
    "\n",
    "val=(s,m,p,q)\n",
    "mycursor.execute(sql,val)\n",
    "mycursor.execute(\"select * from ata_of_blood_bank\")\n",
    "print(\"\") \n",
    "print(\"Updated blood bank data\")\n",
    "print(\"\")\n",
    "for i in mycursor:\n",
    "    print(i)\n",
    "\n",
    "\n",
    "mydb.commit()"
   ]
  },
  {
   "cell_type": "markdown",
   "metadata": {},
   "source": [
    "* Adding into Donor Table"
   ]
  },
  {
   "cell_type": "code",
   "execution_count": 2,
   "metadata": {},
   "outputs": [
    {
     "name": "stdout",
     "output_type": "stream",
     "text": [
      "\n",
      "Current ata of blood bank:\n",
      "\n",
      "(1, 'kodze', 'A', 'healthy', '22 ruth belhar', '0739112526')\n",
      "(2, 'john', 'A', 'diabetes', '10 lower brakenfell', '0839168864')\n",
      "(3, 'andy', 'O', 'healthy', '66 casinga cpt', '0690556472')\n",
      "(4, 'anele', 'AB', 'healthy', '45 springs jhb', '0712223636')\n",
      "(5, 'zolani', 'AB', 'healthy', '28 kwamashu kzn', '0765344861')\n",
      "\n",
      "Enter donor id: 6\n",
      "Enter donor name: asanda\n",
      "Enter donor blood group: O\n",
      "Enter donor medical report: healthy\n",
      "Enter donor address: 76 magness jhb\n",
      "Enter donor contact number: 0796428545\n",
      "\n",
      "Updated donor data\n",
      "\n",
      "(1, 'kodze', 'A', 'healthy', '22 ruth belhar', '0739112526')\n",
      "(2, 'john', 'A', 'diabetes', '10 lower brakenfell', '0839168864')\n",
      "(3, 'andy', 'O', 'healthy', '66 casinga cpt', '0690556472')\n",
      "(4, 'anele', 'AB', 'healthy', '45 springs jhb', '0712223636')\n",
      "(5, 'zolani', 'AB', 'healthy', '28 kwamashu kzn', '0765344861')\n",
      "(6, 'asanda', 'O', 'healthy', '76 magness jhb', '0796428545')\n"
     ]
    }
   ],
   "source": [
    "mycursor.execute(\"select * from data_of_donor\")\n",
    "print(\"\")\n",
    "print(\"Current ata of blood bank:\")\n",
    "print(\"\")\n",
    "for i in mycursor:\n",
    "    print(i)\n",
    "\n",
    "print(\"\")\n",
    "sql=\"INSERT INTO data_of_donor(id,donor_name,donor_blood_group,donor_medical_report,donor_address,donor_contact_number) VALUES(%s,%s,%s,%s,%s,%s)\"\n",
    "k=input(\"Enter donor id: \")\n",
    "s=input(\"Enter donor name: \")\n",
    "m=input(\"Enter donor blood group: \")\n",
    "p=input(\"Enter donor medical report: \")\n",
    "h=input(\"Enter donor address: \")\n",
    "q=input(\"Enter donor contact number: \")\n",
    "\n",
    "val=(k,s,m,p,h,q)\n",
    "mycursor.execute(sql,val)\n",
    "mycursor.execute(\"select * from data_of_donor\")\n",
    "print(\"\") \n",
    "print(\"Updated donor data\")\n",
    "print(\"\")\n",
    "for i in mycursor:\n",
    "    print(i)\n",
    "\n",
    "\n",
    "mydb.commit()"
   ]
  },
  {
   "cell_type": "markdown",
   "metadata": {},
   "source": [
    "## Deleting records"
   ]
  },
  {
   "cell_type": "markdown",
   "metadata": {},
   "source": [
    "* deleting from patient data"
   ]
  },
  {
   "cell_type": "code",
   "execution_count": 4,
   "metadata": {
    "scrolled": true
   },
   "outputs": [
    {
     "name": "stdout",
     "output_type": "stream",
     "text": [
      "\n",
      "Current data of patients:\n",
      "\n",
      "(1, 'luvo', 'A', 'tuberculosis')\n",
      "(2, 'songezo', 'A', 'cancer')\n",
      "(3, 'wyn', 'O', 'diabetes')\n",
      "(4, 'lish', 'B', 'heart disease')\n",
      "(5, 'johanes', 'AB', 'kidney failure')\n",
      "(6, 'seyda', 'O', 'hearth disease')\n",
      "(7, 'khaya', 'B', 'tuberculosis')\n",
      "\n",
      "Enter name of patient to delete from record: khaya\n",
      "\n",
      "Updated patient data\n",
      "\n",
      "(1, 'luvo', 'A', 'tuberculosis')\n",
      "(2, 'songezo', 'A', 'cancer')\n",
      "(3, 'wyn', 'O', 'diabetes')\n",
      "(4, 'lish', 'B', 'heart disease')\n",
      "(5, 'johanes', 'AB', 'kidney failure')\n",
      "(6, 'seyda', 'O', 'hearth disease')\n"
     ]
    }
   ],
   "source": [
    "mycursor.execute(\"select * from data_of_patient\")\n",
    "print(\"\")\n",
    "print(\"Current data of patients:\")\n",
    "print(\"\")\n",
    "for i in mycursor:\n",
    "    print(i)\n",
    "              \n",
    "print(\"\")\n",
    "sql=\"delete from data_of_patient where patient_name=%s \"      \n",
    "m=input(\"Enter name of patient to delete from record: \")\n",
    "val=(m,)\n",
    "mycursor.execute(sql,val)\n",
    "\n",
    "mycursor.execute(\"select * from data_of_patient\")\n",
    "print(\"\") \n",
    "print(\"Updated patient data\")\n",
    "print(\"\")\n",
    "for i in mycursor:\n",
    "    print(i)\n",
    "\n",
    "mydb.commit()"
   ]
  },
  {
   "cell_type": "markdown",
   "metadata": {},
   "source": [
    "* deleting from blood bank data"
   ]
  },
  {
   "cell_type": "code",
   "execution_count": 15,
   "metadata": {
    "scrolled": true
   },
   "outputs": [
    {
     "name": "stdout",
     "output_type": "stream",
     "text": [
      "\n",
      "Current data of blood bank:\n",
      "\n",
      "('worster blook bank', '63 ruth first wst', 'andy', '0690556472')\n",
      "('ziadoc blood bank', '11 tokoza jhb', 'anele', '0712223636')\n",
      "('western cape bank', '26 chris stainbeg', 'kodze', '0739112526')\n",
      "('kapsta blood bank', '14 mhlanga dbn', 'loyd', '0829992511')\n",
      "('marlin blood bank', '23 grenendal cpt', 'john', '0839168864')\n",
      "\n",
      "Enter name of donor to delete from record: john\n",
      "\n",
      "Updated data of blood bank\n",
      "\n",
      "('worster blook bank', '63 ruth first wst', 'andy', '0690556472')\n",
      "('ziadoc blood bank', '11 tokoza jhb', 'anele', '0712223636')\n",
      "('western cape bank', '26 chris stainbeg', 'kodze', '0739112526')\n",
      "('kapsta blood bank', '14 mhlanga dbn', 'loyd', '0829992511')\n"
     ]
    }
   ],
   "source": [
    "mycursor.execute(\"select * from ata_of_blood_bank\")\n",
    "print(\"\")\n",
    "print(\"Current data of blood bank:\")\n",
    "print(\"\")\n",
    "for i in mycursor:\n",
    "    print(i)\n",
    "              \n",
    "print(\"\")\n",
    "sql=\"delete from ata_of_blood_bank where donor_name=%s \"      \n",
    "m=input(\"Enter name of donor to delete from record: \")\n",
    "val=(m,)\n",
    "mycursor.execute(sql,val)\n",
    "\n",
    "mycursor.execute(\"select * from ata_of_blood_bank\")\n",
    "print(\"\") \n",
    "print(\"Updated data of blood bank\")\n",
    "print(\"\")\n",
    "for i in mycursor:\n",
    "    print(i)\n",
    "\n",
    "mydb.commit()"
   ]
  },
  {
   "cell_type": "code",
   "execution_count": null,
   "metadata": {},
   "outputs": [],
   "source": []
  },
  {
   "cell_type": "code",
   "execution_count": null,
   "metadata": {},
   "outputs": [],
   "source": []
  }
 ],
 "metadata": {
  "kernelspec": {
   "display_name": "Python 3",
   "language": "python",
   "name": "python3"
  },
  "language_info": {
   "codemirror_mode": {
    "name": "ipython",
    "version": 3
   },
   "file_extension": ".py",
   "mimetype": "text/x-python",
   "name": "python",
   "nbconvert_exporter": "python",
   "pygments_lexer": "ipython3",
   "version": "3.7.6"
  }
 },
 "nbformat": 4,
 "nbformat_minor": 4
}
